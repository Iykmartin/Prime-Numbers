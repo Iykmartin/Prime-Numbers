{
 "cells": [
  {
   "cell_type": "markdown",
   "metadata": {},
   "source": [
    "# Write a program that prompts a user to ask \n",
    "# for prime numbers within certain range of values"
   ]
  },
  {
   "cell_type": "code",
   "execution_count": null,
   "metadata": {},
   "outputs": [],
   "source": [
    "# in this promgram, we are going to generate \n",
    "# prime numbers within the values as specified by the user.\n",
    "\n",
    "# Problem definition: Prime Numbers are positive integers greater than one and are only divisible by one and themselve.\n",
    "# Example: 3 5 7 11 13 17 19 23.........\n"
   ]
  },
  {
   "cell_type": "code",
   "execution_count": 9,
   "metadata": {},
   "outputs": [
    {
     "name": "stdout",
     "output_type": "stream",
     "text": [
      "Please enter the lower boundary: 10\n",
      "Please enter the upper boundary: 100\n",
      "[11, 13, 17, 19, 23, 29, 31, 37, 41, 43, 47, 53, 59, 61, 67, 71, 73, 79, 83, 89, 97]\n"
     ]
    }
   ],
   "source": [
    "# lets create variables (lower and upper) to hold the user range input\n",
    "# we use the input function int() to convert whatever value the user enters to integer.\n",
    "lower = int(input('Please enter the lower boundary: '))\n",
    "upper = int(input('Please enter the upper boundary: '))\n",
    "\n",
    "# we also create empty list variable to hold the prime numbers\n",
    "Prime_Numb = []\n",
    "\n",
    "# use for loop for the iteration\n",
    "for num in range (lower,upper + 1):\n",
    "    if num > 1: # here we try to check that number is greater than one\n",
    "        for i in range(2,num):\n",
    "            if num % i == 0: \n",
    "                break\n",
    "        else:\n",
    "            Prime_Numb.append(num)\n",
    "            \n",
    "print(Prime_Numb)"
   ]
  },
  {
   "cell_type": "code",
   "execution_count": null,
   "metadata": {},
   "outputs": [],
   "source": []
  }
 ],
 "metadata": {
  "kernelspec": {
   "display_name": "Python 3",
   "language": "python",
   "name": "python3"
  },
  "language_info": {
   "codemirror_mode": {
    "name": "ipython",
    "version": 3
   },
   "file_extension": ".py",
   "mimetype": "text/x-python",
   "name": "python",
   "nbconvert_exporter": "python",
   "pygments_lexer": "ipython3",
   "version": "3.7.1"
  }
 },
 "nbformat": 4,
 "nbformat_minor": 2
}
